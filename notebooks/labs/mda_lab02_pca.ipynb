{
 "cells": [
  {
   "cell_type": "code",
   "execution_count": 1,
   "id": "677c7a36",
   "metadata": {},
   "outputs": [],
   "source": [
    "import sympy as sp"
   ]
  },
  {
   "cell_type": "code",
   "execution_count": 13,
   "id": "a7d3ca28",
   "metadata": {},
   "outputs": [
    {
     "name": "stdout",
     "output_type": "stream",
     "text": [
      "{lmbda: 0, phi11: -sqrt(5)/5, phi12: 2*sqrt(5)/5}\n",
      "{lmbda: 0, phi11: sqrt(5)/5, phi12: -2*sqrt(5)/5}\n",
      "{lmbda: 5, phi11: -2*sqrt(5)/5, phi12: -sqrt(5)/5}\n",
      "{lmbda: 5, phi11: 2*sqrt(5)/5, phi12: sqrt(5)/5}\n"
     ]
    }
   ],
   "source": [
    "phi11, phi12, lmbda = sp.symbols('phi11 phi12 lmbda')\n",
    "\n",
    "eqs = [\n",
    "    sp.Eq(phi11*(8 - 2*lmbda) + 4*phi12, 0),\n",
    "    sp.Eq(phi12*(2 - 2*lmbda) + 4*phi11, 0),\n",
    "    sp.Eq(phi11**2 + phi12**2, 1) # same as initial constraint\n",
    "]\n",
    "sol = sp.solve(eqs, (phi11, phi12, lmbda), dict=True)\n",
    "print(*sol, sep='\\n')\n"
   ]
  },
  {
   "cell_type": "code",
   "execution_count": null,
   "id": "f5d77baf",
   "metadata": {},
   "outputs": [],
   "source": [
    "import matplotlib.pyplot as plt\n",
    "import numpy as np"
   ]
  },
  {
   "cell_type": "code",
   "execution_count": 17,
   "id": "ac07cf26",
   "metadata": {},
   "outputs": [
    {
     "name": "stdout",
     "output_type": "stream",
     "text": [
      "[{'lmbda': 0.0, 'phi': array([-0.4472136 ,  0.89442719])}, {'lmbda': 0.0, 'phi': array([ 0.4472136 , -0.89442719])}, {'lmbda': 5.0, 'phi': array([-0.89442719, -0.4472136 ])}, {'lmbda': 5.0, 'phi': array([0.89442719, 0.4472136 ])}]\n"
     ]
    }
   ],
   "source": [
    "solutions = [\n",
    "    {\n",
    "        \"lmbda\": float(s[lmbda].evalf()),\n",
    "        \"phi\": np.array([float(s[phi11].evalf()), float(s[phi12].evalf())])\n",
    "    }\n",
    "    for s in sol\n",
    "]\n",
    "\n",
    "print(solutions)"
   ]
  },
  {
   "cell_type": "code",
   "execution_count": 45,
   "id": "40464f77",
   "metadata": {},
   "outputs": [
    {
     "name": "stderr",
     "output_type": "stream",
     "text": [
      "<>:10: SyntaxWarning: invalid escape sequence '\\l'\n",
      "<>:10: SyntaxWarning: invalid escape sequence '\\l'\n",
      "/var/folders/tq/w_yq51q901g31lqy10hn7b000000gn/T/ipykernel_60671/2524181734.py:10: SyntaxWarning: invalid escape sequence '\\l'\n",
      "  plt.plot([0, phi[0]], [0, phi[1]], label=f'$\\lambda$={lmbda}', color=color, lw=1)\n"
     ]
    },
    {
     "data": {
      "image/png": "[encoded data removed]",
      "text/plain": [
       "<Figure size 640x480 with 1 Axes>"
      ]
     },
     "metadata": {},
     "output_type": "display_data"
    }
   ],
   "source": [
    "X = np.array([[2, 1],\n",
    "              [-2, -1]])\n",
    "\n",
    "plt.scatter(X[:,0], X[:,1], c='red', s=40, label='X', marker='x')\n",
    "\n",
    "for s in solutions:\n",
    "    lmbda = s['lmbda']\n",
    "    phi = s['phi']\n",
    "    color = \"red\" if lmbda > 0 else \"purple\"\n",
    "    plt.plot([0, phi[0]], [0, phi[1]], label=f'$\\lambda$={lmbda}', color=color, lw=1)\n",
    "    plt.quiver(\n",
    "        0, 0, # origin\n",
    "        phi[0],           # dx\n",
    "        phi[1] ,           # dy\n",
    "        angles='xy', scale_units='xy', scale=1,\n",
    "        color=color, width=0.01,\n",
    "    )\n",
    "\n",
    "\n",
    "plt.grid(True)\n",
    "plt.gca().set_aspect('equal')\n",
    "plt.xlabel('$x_1$')\n",
    "plt.ylabel('$x_2$')\n",
    "plt.legend()\n",
    "plt.show()\n"
   ]
  },
  {
   "cell_type": "code",
   "execution_count": null,
   "id": "d759731c",
   "metadata": {},
   "outputs": [],
   "source": []
  }
 ],
 "metadata": {
  "kernelspec": {
   "display_name": "mva",
   "language": "python",
   "name": "python3"
  },
  "language_info": {
   "codemirror_mode": {
    "name": "ipython",
    "version": 3
   },
   "file_extension": ".py",
   "mimetype": "text/x-python",
   "name": "python",
   "nbconvert_exporter": "python",
   "pygments_lexer": "ipython3",
   "version": "3.12.11"
  }
 },
 "nbformat": 4,
 "nbformat_minor": 5
}
